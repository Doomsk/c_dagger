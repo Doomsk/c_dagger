{
 "cells": [
  {
   "cell_type": "code",
   "execution_count": 1,
   "metadata": {},
   "outputs": [],
   "source": [
    "import os\n",
    "import sys\n",
    "module_path = os.path.abspath(os.path.join('../cdag'))\n",
    "if module_path not in sys.path:\n",
    "    sys.path.append(module_path)"
   ]
  },
  {
   "cell_type": "code",
   "execution_count": 2,
   "metadata": {},
   "outputs": [],
   "source": [
    "from interpreter.interp import Interpreter"
   ]
  },
  {
   "cell_type": "code",
   "execution_count": 3,
   "metadata": {},
   "outputs": [
    {
     "name": "stdout",
     "output_type": "stream",
     "text": [
      "\"Digite o seu nome:\"\n",
      "Adauto 14 0x83ac\n",
      "\"oi Adauto\" 14 0x83ac\n"
     ]
    },
    {
     "data": {
      "text/plain": [
       "{'return_code': 0}"
      ]
     },
     "execution_count": 3,
     "metadata": {},
     "output_type": "execute_result"
    }
   ],
   "source": [
    "ai = Interpreter()\n",
    "\n",
    "c3 = \"\"\"teste: apresenta [\"Digite o seu nome:\"] \n",
    "               recebe [string real hexadecimal] como v1 v2 v3 \n",
    "               adiciona [\"oi \" v1] como v4\n",
    "               apresenta [v4 v2 v3]\"\"\"\n",
    "ai.run(c3, lang='pt')"
   ]
  },
  {
   "cell_type": "code",
   "execution_count": 4,
   "metadata": {},
   "outputs": [
    {
     "name": "stdout",
     "output_type": "stream",
     "text": [
      "\"Write your name:\"\n",
      "Jaynes\n",
      "\"Hi Jaynes\"\n"
     ]
    },
    {
     "data": {
      "text/plain": [
       "{'return_code': 0}"
      ]
     },
     "execution_count": 4,
     "metadata": {},
     "output_type": "execute_result"
    }
   ],
   "source": [
    "c4 = \"\"\"test: outputs [\"Write your name:\"] inputs [string] as v1 adds [\"Hi \" v1] as v2 outputs [v2]\"\"\"\n",
    "ai.run(c4, lang='en')"
   ]
  },
  {
   "cell_type": "code",
   "execution_count": null,
   "metadata": {},
   "outputs": [],
   "source": [
    "c5 = \"\"\"a: outputs [\"type the number for factorial:\"]\n",
    "           inputs [real] as v1 \n",
    "           applies [with factorial: maps [v1]] as v2\n",
    "           outputs [\" \"]\n",
    "        factorial: sets [*v1] as v1\n",
    "                   multiplies [$n]_1...v1 as v2\n",
    "                   uses [v2]\"\"\"\n"
   ]
  },
  {
   "cell_type": "code",
   "execution_count": 7,
   "metadata": {},
   "outputs": [
    {
     "name": "stdout",
     "output_type": "stream",
     "text": [
      "24\n",
      "120\n",
      "2880\n"
     ]
    },
    {
     "data": {
      "text/plain": [
       "{'return_code': 0}"
      ]
     },
     "execution_count": 7,
     "metadata": {},
     "output_type": "execute_result"
    }
   ],
   "source": [
    "c6 = \"\"\"factorial: multiplies [$n]_1...4 as v1\n",
    "                   outputs [v1]\n",
    "                   multiplies [1 2 3 4 5] as v2\n",
    "                   outputs [v2]\n",
    "                   multiplies [v$n]_1...2 as v3\n",
    "                   outputs [v3]\"\"\"\n",
    "ai.run(c6)"
   ]
  },
  {
   "cell_type": "code",
   "execution_count": null,
   "metadata": {},
   "outputs": [],
   "source": [
    "c10 = \"\"\"test: @ moves [v1 v2]\n",
    "               @ teleports [ip x y psiA nodeB]\"\"\" "
   ]
  },
  {
   "cell_type": "code",
   "execution_count": null,
   "metadata": {},
   "outputs": [],
   "source": [
    "import cdag.hamiltis.ising as i\n",
    "\n",
    "result = i.run(hamiltoniano, **params) \n",
    "# envia a instrução hamiltoniano de ising + parametros para o standalone do Cdagger,\n",
    "# que vai chamar o algoritmo apropriado pra preparar o qc\n",
    " "
   ]
  },
  {
   "cell_type": "raw",
   "metadata": {},
   "source": [
    "1º cenário:\n",
    "    - o que o programador da linguagem de alto nivel quer (resolver o problema dele usando qc)\n",
    "    \n",
    "2º cenário:\n",
    "    - programador que vai usar um algoritmo dentro do C†:\n",
    "        - tem que conhecer as limitações dos algoritmo e do qc\n",
    "\n",
    "3º cenário:\n",
    "    - programador que vai desenvolver a base da linguagem/algoritmo em C†:\n",
    "        - programador tem que conhecer muito bem a arquitetura do qc que ele está trabalhando\n",
    "        - programador tem que desenvolver os arquivos de configuração dos algoritmos\n",
    "        - paramaetros de escolha do desenho do algoritmo dentro do qc\n",
    "            - a: @gleyds [random/best/worst/linear-sequential q1 q$m]_2...100\n",
    "            - ([1, 2, 501], 0.27)"
   ]
  },
  {
   "cell_type": "code",
   "execution_count": null,
   "metadata": {},
   "outputs": [],
   "source": []
  },
  {
   "cell_type": "code",
   "execution_count": null,
   "metadata": {},
   "outputs": [],
   "source": []
  },
  {
   "cell_type": "code",
   "execution_count": null,
   "metadata": {},
   "outputs": [],
   "source": []
  },
  {
   "cell_type": "code",
   "execution_count": null,
   "metadata": {},
   "outputs": [],
   "source": []
  }
 ],
 "metadata": {
  "kernelspec": {
   "display_name": "Python 3",
   "language": "python",
   "name": "python3"
  },
  "language_info": {
   "codemirror_mode": {
    "name": "ipython",
    "version": 3
   },
   "file_extension": ".py",
   "mimetype": "text/x-python",
   "name": "python",
   "nbconvert_exporter": "python",
   "pygments_lexer": "ipython3",
   "version": "3.8.5"
  }
 },
 "nbformat": 4,
 "nbformat_minor": 4
}
